{
 "cells": [
  {
   "attachments": {},
   "cell_type": "markdown",
   "metadata": {},
   "source": [
    "# Get Env Vars"
   ]
  },
  {
   "attachments": {},
   "cell_type": "markdown",
   "metadata": {},
   "source": [
    "Run the pip command in the system shell, and install the python-dotenv package for loading .env:"
   ]
  },
  {
   "cell_type": "code",
   "execution_count": 2,
   "metadata": {},
   "outputs": [],
   "source": [
    "try:\n",
    "    from dotenv import load_dotenv\n",
    "except ImportError:\n",
    "    !pip install python-dotenv"
   ]
  },
  {
   "attachments": {},
   "cell_type": "markdown",
   "metadata": {},
   "source": [
    "Load the environment variables from the .env file into the environment of the Jupyter notebook:"
   ]
  },
  {
   "cell_type": "code",
   "execution_count": 3,
   "metadata": {},
   "outputs": [
    {
     "data": {
      "text/plain": [
       "True"
      ]
     },
     "execution_count": 3,
     "metadata": {},
     "output_type": "execute_result"
    }
   ],
   "source": [
    "load_dotenv()"
   ]
  },
  {
   "attachments": {},
   "cell_type": "markdown",
   "metadata": {},
   "source": [
    "# Connect to Snowflake"
   ]
  },
  {
   "attachments": {},
   "cell_type": "markdown",
   "metadata": {},
   "source": [
    "## Using User/Password"
   ]
  },
  {
   "attachments": {},
   "cell_type": "markdown",
   "metadata": {},
   "source": [
    " Install the snowflake-connector-python library:"
   ]
  },
  {
   "cell_type": "code",
   "execution_count": 6,
   "metadata": {},
   "outputs": [],
   "source": [
    "try:\n",
    "    import snowflake.connector\n",
    "except ImportError:\n",
    "    !pip install snowflake-connector-python"
   ]
  },
  {
   "cell_type": "code",
   "execution_count": 18,
   "metadata": {},
   "outputs": [
    {
     "name": "stdout",
     "output_type": "stream",
     "text": [
      "7.11.4\n",
      "Done.\n"
     ]
    }
   ],
   "source": [
    "import os\n",
    "\n",
    "# Set the Snowflake connection parameters\n",
    "account_name = os.getenv(\"SF_ACCOUNT\")\n",
    "user = os.getenv(\"SF_USER\")\n",
    "password = os.getenv(\"SF_PASSWORD\")\n",
    "authenticator = 'externalbrowser'\n",
    "token = os.getenv(\"SF_TOKEN\")\n",
    "warehouse = os.getenv(\"SF_WAREHOUSE\")\n",
    "database = os.getenv(\"SF_DATABASE\")\n",
    "schema = os.getenv(\"SF_SCHEMA\")\n",
    "\n",
    "# Connect to Snowflake using buser/password\n",
    "conn = snowflake.connector.connect(\n",
    "    account=f'{account_name}.ap-southeast-2',\n",
    "    #account=account_name,\n",
    "    user=user,\n",
    "    #authenticator=authenticator,\n",
    "    password=password,\n",
    "    #token=token,\n",
    "    warehouse=warehouse,\n",
    "    database=database,\n",
    "    schema=schema\n",
    ")\n",
    "\n",
    "cs = conn.cursor()\n",
    "try:\n",
    "    cs.execute(\"SELECT current_version()\")\n",
    "    one_row = cs.fetchone()\n",
    "    print(one_row[0])\n",
    "finally:\n",
    "    print(\"Done.\")"
   ]
  },
  {
   "attachments": {},
   "cell_type": "markdown",
   "metadata": {},
   "source": [
    "## Using Browser-Based Auth"
   ]
  },
  {
   "cell_type": "code",
   "execution_count": 21,
   "metadata": {},
   "outputs": [
    {
     "ename": "ForbiddenError",
     "evalue": "000403: HTTP 403: Forbidden",
     "output_type": "error",
     "traceback": [
      "\u001b[0;31m---------------------------------------------------------------------------\u001b[0m",
      "\u001b[0;31mRetryRequest\u001b[0m                              Traceback (most recent call last)",
      "File \u001b[0;32m~/.pyenv/versions/3.11.3/envs/3_11_3_jupyter/lib/python3.11/site-packages/snowflake/connector/network.py:857\u001b[0m, in \u001b[0;36mSnowflakeRestful._request_exec_wrapper\u001b[0;34m(self, session, method, full_url, headers, data, retry_ctx, no_retry, token, **kwargs)\u001b[0m\n\u001b[1;32m    856\u001b[0m \u001b[39mtry\u001b[39;00m:\n\u001b[0;32m--> 857\u001b[0m     return_object \u001b[39m=\u001b[39m \u001b[39mself\u001b[39;49m\u001b[39m.\u001b[39;49m_request_exec(\n\u001b[1;32m    858\u001b[0m         session\u001b[39m=\u001b[39;49msession,\n\u001b[1;32m    859\u001b[0m         method\u001b[39m=\u001b[39;49mmethod,\n\u001b[1;32m    860\u001b[0m         full_url\u001b[39m=\u001b[39;49mfull_url,\n\u001b[1;32m    861\u001b[0m         headers\u001b[39m=\u001b[39;49mheaders,\n\u001b[1;32m    862\u001b[0m         data\u001b[39m=\u001b[39;49mdata,\n\u001b[1;32m    863\u001b[0m         token\u001b[39m=\u001b[39;49mtoken,\n\u001b[1;32m    864\u001b[0m         \u001b[39m*\u001b[39;49m\u001b[39m*\u001b[39;49mkwargs,\n\u001b[1;32m    865\u001b[0m     )\n\u001b[1;32m    866\u001b[0m     \u001b[39mif\u001b[39;00m return_object \u001b[39mis\u001b[39;00m \u001b[39mnot\u001b[39;00m \u001b[39mNone\u001b[39;00m:\n",
      "File \u001b[0;32m~/.pyenv/versions/3.11.3/envs/3_11_3_jupyter/lib/python3.11/site-packages/snowflake/connector/network.py:1131\u001b[0m, in \u001b[0;36mSnowflakeRestful._request_exec\u001b[0;34m(self, session, method, full_url, headers, data, token, catch_okta_unauthorized_error, is_raw_text, is_raw_binary, binary_data_handler, socket_timeout)\u001b[0m\n\u001b[1;32m   1122\u001b[0m TelemetryService\u001b[39m.\u001b[39mget_instance()\u001b[39m.\u001b[39mlog_http_request_error(\n\u001b[1;32m   1123\u001b[0m     \u001b[39m\"\u001b[39m\u001b[39mHttpException\u001b[39m\u001b[39m%s\u001b[39;00m\u001b[39m\"\u001b[39m \u001b[39m%\u001b[39m \u001b[39mstr\u001b[39m(err),\n\u001b[1;32m   1124\u001b[0m     full_url,\n\u001b[0;32m   (...)\u001b[0m\n\u001b[1;32m   1129\u001b[0m     stack_trace\u001b[39m=\u001b[39mtraceback\u001b[39m.\u001b[39mformat_exc(),\n\u001b[1;32m   1130\u001b[0m )\n\u001b[0;32m-> 1131\u001b[0m \u001b[39mraise\u001b[39;00m err\n",
      "File \u001b[0;32m~/.pyenv/versions/3.11.3/envs/3_11_3_jupyter/lib/python3.11/site-packages/snowflake/connector/network.py:1062\u001b[0m, in \u001b[0;36mSnowflakeRestful._request_exec\u001b[0;34m(self, session, method, full_url, headers, data, token, catch_okta_unauthorized_error, is_raw_text, is_raw_binary, binary_data_handler, socket_timeout)\u001b[0m\n\u001b[1;32m   1061\u001b[0m     \u001b[39m# retryable server exceptions\u001b[39;00m\n\u001b[0;32m-> 1062\u001b[0m     \u001b[39mraise\u001b[39;00m RetryRequest(error)\n\u001b[1;32m   1064\u001b[0m \u001b[39melif\u001b[39;00m (\n\u001b[1;32m   1065\u001b[0m     raw_ret\u001b[39m.\u001b[39mstatus_code \u001b[39m==\u001b[39m UNAUTHORIZED\n\u001b[1;32m   1066\u001b[0m     \u001b[39mand\u001b[39;00m catch_okta_unauthorized_error\n\u001b[1;32m   1067\u001b[0m ):\n\u001b[1;32m   1068\u001b[0m     \u001b[39m# OKTA Unauthorized errors\u001b[39;00m\n",
      "\u001b[0;31mRetryRequest\u001b[0m: 000403: HTTP 403: Forbidden",
      "\nDuring handling of the above exception, another exception occurred:\n",
      "\u001b[0;31mForbiddenError\u001b[0m                            Traceback (most recent call last)",
      "Cell \u001b[0;32mIn[21], line 14\u001b[0m\n\u001b[1;32m     11\u001b[0m schema \u001b[39m=\u001b[39m os\u001b[39m.\u001b[39mgetenv(\u001b[39m\"\u001b[39m\u001b[39mSF_SCHEMA\u001b[39m\u001b[39m\"\u001b[39m)\n\u001b[1;32m     13\u001b[0m \u001b[39m# Connect to Snowflake using buser/password\u001b[39;00m\n\u001b[0;32m---> 14\u001b[0m conn \u001b[39m=\u001b[39m snowflake\u001b[39m.\u001b[39;49mconnector\u001b[39m.\u001b[39;49mconnect(\n\u001b[1;32m     15\u001b[0m     \u001b[39m#account=f'{account_name}.ap-southeast-2',\u001b[39;49;00m\n\u001b[1;32m     16\u001b[0m     account\u001b[39m=\u001b[39;49maccount_name,\n\u001b[1;32m     17\u001b[0m     user\u001b[39m=\u001b[39;49muser,\n\u001b[1;32m     18\u001b[0m     authenticator\u001b[39m=\u001b[39;49mauthenticator,    \n\u001b[1;32m     19\u001b[0m     warehouse\u001b[39m=\u001b[39;49mwarehouse,\n\u001b[1;32m     20\u001b[0m     database\u001b[39m=\u001b[39;49mdatabase,\n\u001b[1;32m     21\u001b[0m     schema\u001b[39m=\u001b[39;49mschema\n\u001b[1;32m     22\u001b[0m )\n\u001b[1;32m     24\u001b[0m cs \u001b[39m=\u001b[39m conn\u001b[39m.\u001b[39mcursor()\n\u001b[1;32m     25\u001b[0m \u001b[39mtry\u001b[39;00m:\n",
      "File \u001b[0;32m~/.pyenv/versions/3.11.3/envs/3_11_3_jupyter/lib/python3.11/site-packages/snowflake/connector/__init__.py:51\u001b[0m, in \u001b[0;36mConnect\u001b[0;34m(**kwargs)\u001b[0m\n\u001b[1;32m     50\u001b[0m \u001b[39mdef\u001b[39;00m \u001b[39mConnect\u001b[39m(\u001b[39m*\u001b[39m\u001b[39m*\u001b[39mkwargs) \u001b[39m-\u001b[39m\u001b[39m>\u001b[39m SnowflakeConnection:\n\u001b[0;32m---> 51\u001b[0m     \u001b[39mreturn\u001b[39;00m SnowflakeConnection(\u001b[39m*\u001b[39;49m\u001b[39m*\u001b[39;49mkwargs)\n",
      "File \u001b[0;32m~/.pyenv/versions/3.11.3/envs/3_11_3_jupyter/lib/python3.11/site-packages/snowflake/connector/connection.py:304\u001b[0m, in \u001b[0;36mSnowflakeConnection.__init__\u001b[0;34m(self, **kwargs)\u001b[0m\n\u001b[1;32m    302\u001b[0m \u001b[39mself\u001b[39m\u001b[39m.\u001b[39mconverter \u001b[39m=\u001b[39m \u001b[39mNone\u001b[39;00m\n\u001b[1;32m    303\u001b[0m \u001b[39mself\u001b[39m\u001b[39m.\u001b[39m__set_error_attributes()\n\u001b[0;32m--> 304\u001b[0m \u001b[39mself\u001b[39;49m\u001b[39m.\u001b[39;49mconnect(\u001b[39m*\u001b[39;49m\u001b[39m*\u001b[39;49mkwargs)\n\u001b[1;32m    305\u001b[0m \u001b[39mself\u001b[39m\u001b[39m.\u001b[39m_telemetry \u001b[39m=\u001b[39m TelemetryClient(\u001b[39mself\u001b[39m\u001b[39m.\u001b[39m_rest)\n\u001b[1;32m    307\u001b[0m \u001b[39m# get the imported modules from sys.modules\u001b[39;00m\n",
      "File \u001b[0;32m~/.pyenv/versions/3.11.3/envs/3_11_3_jupyter/lib/python3.11/site-packages/snowflake/connector/connection.py:571\u001b[0m, in \u001b[0;36mSnowflakeConnection.connect\u001b[0;34m(self, **kwargs)\u001b[0m\n\u001b[1;32m    569\u001b[0m         connection_diag\u001b[39m.\u001b[39mgenerate_report()\n\u001b[1;32m    570\u001b[0m \u001b[39melse\u001b[39;00m:\n\u001b[0;32m--> 571\u001b[0m     \u001b[39mself\u001b[39;49m\u001b[39m.\u001b[39;49m__open_connection()\n",
      "File \u001b[0;32m~/.pyenv/versions/3.11.3/envs/3_11_3_jupyter/lib/python3.11/site-packages/snowflake/connector/connection.py:839\u001b[0m, in \u001b[0;36mSnowflakeConnection.__open_connection\u001b[0;34m(self)\u001b[0m\n\u001b[1;32m    835\u001b[0m \u001b[39melse\u001b[39;00m:\n\u001b[1;32m    836\u001b[0m     \u001b[39m# okta URL, e.g., https://<account>.okta.com/\u001b[39;00m\n\u001b[1;32m    837\u001b[0m     \u001b[39mself\u001b[39m\u001b[39m.\u001b[39mauth_class \u001b[39m=\u001b[39m AuthByOkta(application\u001b[39m=\u001b[39m\u001b[39mself\u001b[39m\u001b[39m.\u001b[39mapplication)\n\u001b[0;32m--> 839\u001b[0m \u001b[39mself\u001b[39;49m\u001b[39m.\u001b[39;49mauthenticate_with_retry(\u001b[39mself\u001b[39;49m\u001b[39m.\u001b[39;49mauth_class)\n\u001b[1;32m    841\u001b[0m \u001b[39mself\u001b[39m\u001b[39m.\u001b[39m_password \u001b[39m=\u001b[39m \u001b[39mNone\u001b[39;00m  \u001b[39m# ensure password won't persist\u001b[39;00m\n\u001b[1;32m    842\u001b[0m \u001b[39mself\u001b[39m\u001b[39m.\u001b[39mauth_class\u001b[39m.\u001b[39mreset_secrets()\n",
      "File \u001b[0;32m~/.pyenv/versions/3.11.3/envs/3_11_3_jupyter/lib/python3.11/site-packages/snowflake/connector/connection.py:1099\u001b[0m, in \u001b[0;36mSnowflakeConnection.authenticate_with_retry\u001b[0;34m(self, auth_instance)\u001b[0m\n\u001b[1;32m   1096\u001b[0m \u001b[39mdef\u001b[39;00m \u001b[39mauthenticate_with_retry\u001b[39m(\u001b[39mself\u001b[39m, auth_instance) \u001b[39m-\u001b[39m\u001b[39m>\u001b[39m \u001b[39mNone\u001b[39;00m:\n\u001b[1;32m   1097\u001b[0m     \u001b[39m# make some changes if needed before real __authenticate\u001b[39;00m\n\u001b[1;32m   1098\u001b[0m     \u001b[39mtry\u001b[39;00m:\n\u001b[0;32m-> 1099\u001b[0m         \u001b[39mself\u001b[39;49m\u001b[39m.\u001b[39;49m_authenticate(auth_instance)\n\u001b[1;32m   1100\u001b[0m     \u001b[39mexcept\u001b[39;00m ReauthenticationRequest \u001b[39mas\u001b[39;00m ex:\n\u001b[1;32m   1101\u001b[0m         \u001b[39m# cached id_token expiration error, we have cleaned id_token and try to authenticate again\u001b[39;00m\n\u001b[1;32m   1102\u001b[0m         logger\u001b[39m.\u001b[39mdebug(\u001b[39m\"\u001b[39m\u001b[39mID token expired. Reauthenticating...: \u001b[39m\u001b[39m%s\u001b[39;00m\u001b[39m\"\u001b[39m, ex)\n",
      "File \u001b[0;32m~/.pyenv/versions/3.11.3/envs/3_11_3_jupyter/lib/python3.11/site-packages/snowflake/connector/connection.py:1111\u001b[0m, in \u001b[0;36mSnowflakeConnection._authenticate\u001b[0;34m(self, auth_instance)\u001b[0m\n\u001b[1;32m   1110\u001b[0m \u001b[39mdef\u001b[39;00m \u001b[39m_authenticate\u001b[39m(\u001b[39mself\u001b[39m, auth_instance: AuthByPlugin):\n\u001b[0;32m-> 1111\u001b[0m     auth_instance\u001b[39m.\u001b[39;49mprepare(\n\u001b[1;32m   1112\u001b[0m         conn\u001b[39m=\u001b[39;49m\u001b[39mself\u001b[39;49m,\n\u001b[1;32m   1113\u001b[0m         authenticator\u001b[39m=\u001b[39;49m\u001b[39mself\u001b[39;49m\u001b[39m.\u001b[39;49m_authenticator,\n\u001b[1;32m   1114\u001b[0m         service_name\u001b[39m=\u001b[39;49m\u001b[39mself\u001b[39;49m\u001b[39m.\u001b[39;49mservice_name,\n\u001b[1;32m   1115\u001b[0m         account\u001b[39m=\u001b[39;49m\u001b[39mself\u001b[39;49m\u001b[39m.\u001b[39;49maccount,\n\u001b[1;32m   1116\u001b[0m         user\u001b[39m=\u001b[39;49m\u001b[39mself\u001b[39;49m\u001b[39m.\u001b[39;49muser,\n\u001b[1;32m   1117\u001b[0m         password\u001b[39m=\u001b[39;49m\u001b[39mself\u001b[39;49m\u001b[39m.\u001b[39;49m_password,\n\u001b[1;32m   1118\u001b[0m     )\n\u001b[1;32m   1119\u001b[0m     \u001b[39mself\u001b[39m\u001b[39m.\u001b[39m_consent_cache_id_token \u001b[39m=\u001b[39m \u001b[39mgetattr\u001b[39m(\n\u001b[1;32m   1120\u001b[0m         auth_instance, \u001b[39m\"\u001b[39m\u001b[39mconsent_cache_id_token\u001b[39m\u001b[39m\"\u001b[39m, \u001b[39mTrue\u001b[39;00m\n\u001b[1;32m   1121\u001b[0m     )\n\u001b[1;32m   1123\u001b[0m     auth \u001b[39m=\u001b[39m Auth(\u001b[39mself\u001b[39m\u001b[39m.\u001b[39mrest)\n",
      "File \u001b[0;32m~/.pyenv/versions/3.11.3/envs/3_11_3_jupyter/lib/python3.11/site-packages/snowflake/connector/auth/webbrowser.py:137\u001b[0m, in \u001b[0;36mAuthByWebBrowser.prepare\u001b[0;34m(self, conn, authenticator, service_name, account, user, **kwargs)\u001b[0m\n\u001b[1;32m    134\u001b[0m callback_port \u001b[39m=\u001b[39m socket_connection\u001b[39m.\u001b[39mgetsockname()[\u001b[39m1\u001b[39m]\n\u001b[1;32m    136\u001b[0m logger\u001b[39m.\u001b[39mdebug(\u001b[39m\"\u001b[39m\u001b[39mstep 1: query GS to obtain SSO url\u001b[39m\u001b[39m\"\u001b[39m)\n\u001b[0;32m--> 137\u001b[0m sso_url \u001b[39m=\u001b[39m \u001b[39mself\u001b[39;49m\u001b[39m.\u001b[39;49m_get_sso_url(\n\u001b[1;32m    138\u001b[0m     conn, authenticator, service_name, account, callback_port, user\n\u001b[1;32m    139\u001b[0m )\n\u001b[1;32m    141\u001b[0m logger\u001b[39m.\u001b[39mdebug(\u001b[39m\"\u001b[39m\u001b[39mValidate SSO URL\u001b[39m\u001b[39m\"\u001b[39m)\n\u001b[1;32m    142\u001b[0m \u001b[39mif\u001b[39;00m \u001b[39mnot\u001b[39;00m is_valid_url(sso_url):\n",
      "File \u001b[0;32m~/.pyenv/versions/3.11.3/envs/3_11_3_jupyter/lib/python3.11/site-packages/snowflake/connector/auth/webbrowser.py:404\u001b[0m, in \u001b[0;36mAuthByWebBrowser._get_sso_url\u001b[0;34m(self, conn, authenticator, service_name, account, callback_port, user)\u001b[0m\n\u001b[1;32m    400\u001b[0m body[\u001b[39m\"\u001b[39m\u001b[39mdata\u001b[39m\u001b[39m\"\u001b[39m][\u001b[39m\"\u001b[39m\u001b[39mBROWSER_MODE_REDIRECT_PORT\u001b[39m\u001b[39m\"\u001b[39m] \u001b[39m=\u001b[39m \u001b[39mstr\u001b[39m(callback_port)\n\u001b[1;32m    401\u001b[0m logger\u001b[39m.\u001b[39mdebug(\n\u001b[1;32m    402\u001b[0m     \u001b[39m\"\u001b[39m\u001b[39maccount=\u001b[39m\u001b[39m%s\u001b[39;00m\u001b[39m, authenticator=\u001b[39m\u001b[39m%s\u001b[39;00m\u001b[39m, user=\u001b[39m\u001b[39m%s\u001b[39;00m\u001b[39m\"\u001b[39m, account, authenticator, user\n\u001b[1;32m    403\u001b[0m )\n\u001b[0;32m--> 404\u001b[0m ret \u001b[39m=\u001b[39m conn\u001b[39m.\u001b[39;49m_rest\u001b[39m.\u001b[39;49m_post_request(\n\u001b[1;32m    405\u001b[0m     url,\n\u001b[1;32m    406\u001b[0m     headers,\n\u001b[1;32m    407\u001b[0m     json\u001b[39m.\u001b[39;49mdumps(body),\n\u001b[1;32m    408\u001b[0m     timeout\u001b[39m=\u001b[39;49mconn\u001b[39m.\u001b[39;49m_rest\u001b[39m.\u001b[39;49m_connection\u001b[39m.\u001b[39;49mlogin_timeout,\n\u001b[1;32m    409\u001b[0m     socket_timeout\u001b[39m=\u001b[39;49mconn\u001b[39m.\u001b[39;49m_rest\u001b[39m.\u001b[39;49m_connection\u001b[39m.\u001b[39;49mlogin_timeout,\n\u001b[1;32m    410\u001b[0m )\n\u001b[1;32m    411\u001b[0m \u001b[39mif\u001b[39;00m \u001b[39mnot\u001b[39;00m ret[\u001b[39m\"\u001b[39m\u001b[39msuccess\u001b[39m\u001b[39m\"\u001b[39m]:\n\u001b[1;32m    412\u001b[0m     \u001b[39mself\u001b[39m\u001b[39m.\u001b[39m_handle_failure(conn\u001b[39m=\u001b[39mconn, ret\u001b[39m=\u001b[39mret)\n",
      "File \u001b[0;32m~/.pyenv/versions/3.11.3/envs/3_11_3_jupyter/lib/python3.11/site-packages/snowflake/connector/network.py:716\u001b[0m, in \u001b[0;36mSnowflakeRestful._post_request\u001b[0;34m(self, url, headers, body, token, timeout, _no_results, no_retry, socket_timeout, _include_retry_params)\u001b[0m\n\u001b[1;32m    713\u001b[0m     ret \u001b[39m=\u001b[39m probe_connection(full_url)\n\u001b[1;32m    714\u001b[0m     pprint(ret)\n\u001b[0;32m--> 716\u001b[0m ret \u001b[39m=\u001b[39m \u001b[39mself\u001b[39;49m\u001b[39m.\u001b[39;49mfetch(\n\u001b[1;32m    717\u001b[0m     \u001b[39m\"\u001b[39;49m\u001b[39mpost\u001b[39;49m\u001b[39m\"\u001b[39;49m,\n\u001b[1;32m    718\u001b[0m     full_url,\n\u001b[1;32m    719\u001b[0m     headers,\n\u001b[1;32m    720\u001b[0m     data\u001b[39m=\u001b[39;49mbody,\n\u001b[1;32m    721\u001b[0m     timeout\u001b[39m=\u001b[39;49mtimeout,\n\u001b[1;32m    722\u001b[0m     token\u001b[39m=\u001b[39;49mtoken,\n\u001b[1;32m    723\u001b[0m     no_retry\u001b[39m=\u001b[39;49mno_retry,\n\u001b[1;32m    724\u001b[0m     socket_timeout\u001b[39m=\u001b[39;49msocket_timeout,\n\u001b[1;32m    725\u001b[0m     _include_retry_params\u001b[39m=\u001b[39;49m_include_retry_params,\n\u001b[1;32m    726\u001b[0m )\n\u001b[1;32m    727\u001b[0m logger\u001b[39m.\u001b[39mdebug(\n\u001b[1;32m    728\u001b[0m     \u001b[39m\"\u001b[39m\u001b[39mret[code] = \u001b[39m\u001b[39m{code}\u001b[39;00m\u001b[39m, after post request\u001b[39m\u001b[39m\"\u001b[39m\u001b[39m.\u001b[39mformat(\n\u001b[1;32m    729\u001b[0m         code\u001b[39m=\u001b[39m(ret\u001b[39m.\u001b[39mget(\u001b[39m\"\u001b[39m\u001b[39mcode\u001b[39m\u001b[39m\"\u001b[39m, \u001b[39m\"\u001b[39m\u001b[39mN/A\u001b[39m\u001b[39m\"\u001b[39m))\n\u001b[1;32m    730\u001b[0m     )\n\u001b[1;32m    731\u001b[0m )\n\u001b[1;32m    733\u001b[0m \u001b[39mif\u001b[39;00m ret\u001b[39m.\u001b[39mget(\u001b[39m\"\u001b[39m\u001b[39mcode\u001b[39m\u001b[39m\"\u001b[39m) \u001b[39m==\u001b[39m SESSION_EXPIRED_GS_CODE:\n",
      "File \u001b[0;32m~/.pyenv/versions/3.11.3/envs/3_11_3_jupyter/lib/python3.11/site-packages/snowflake/connector/network.py:814\u001b[0m, in \u001b[0;36mSnowflakeRestful.fetch\u001b[0;34m(self, method, full_url, headers, data, timeout, **kwargs)\u001b[0m\n\u001b[1;32m    812\u001b[0m retry_ctx \u001b[39m=\u001b[39m RetryCtx(timeout, include_retry_params)\n\u001b[1;32m    813\u001b[0m \u001b[39mwhile\u001b[39;00m \u001b[39mTrue\u001b[39;00m:\n\u001b[0;32m--> 814\u001b[0m     ret \u001b[39m=\u001b[39m \u001b[39mself\u001b[39;49m\u001b[39m.\u001b[39;49m_request_exec_wrapper(\n\u001b[1;32m    815\u001b[0m         session, method, full_url, headers, data, retry_ctx, \u001b[39m*\u001b[39;49m\u001b[39m*\u001b[39;49mkwargs\n\u001b[1;32m    816\u001b[0m     )\n\u001b[1;32m    817\u001b[0m     \u001b[39mif\u001b[39;00m ret \u001b[39mis\u001b[39;00m \u001b[39mnot\u001b[39;00m \u001b[39mNone\u001b[39;00m:\n\u001b[1;32m    818\u001b[0m         \u001b[39mreturn\u001b[39;00m ret\n",
      "File \u001b[0;32m~/.pyenv/versions/3.11.3/envs/3_11_3_jupyter/lib/python3.11/site-packages/snowflake/connector/network.py:910\u001b[0m, in \u001b[0;36mSnowflakeRestful._request_exec_wrapper\u001b[0;34m(self, session, method, full_url, headers, data, retry_ctx, no_retry, token, **kwargs)\u001b[0m\n\u001b[1;32m    908\u001b[0m     retry_ctx\u001b[39m.\u001b[39mtimeout \u001b[39m-\u001b[39m\u001b[39m=\u001b[39m \u001b[39mint\u001b[39m(time\u001b[39m.\u001b[39mtime() \u001b[39m-\u001b[39m start_request_thread)\n\u001b[1;32m    909\u001b[0m     \u001b[39mif\u001b[39;00m retry_ctx\u001b[39m.\u001b[39mtimeout \u001b[39m<\u001b[39m\u001b[39m=\u001b[39m \u001b[39m0\u001b[39m:\n\u001b[0;32m--> 910\u001b[0m         \u001b[39mself\u001b[39;49m\u001b[39m.\u001b[39;49mlog_and_handle_http_error_with_cause(\n\u001b[1;32m    911\u001b[0m             e,\n\u001b[1;32m    912\u001b[0m             full_url,\n\u001b[1;32m    913\u001b[0m             method,\n\u001b[1;32m    914\u001b[0m             retry_ctx\u001b[39m.\u001b[39;49mtotal_timeout,\n\u001b[1;32m    915\u001b[0m             retry_ctx\u001b[39m.\u001b[39;49mcnt,\n\u001b[1;32m    916\u001b[0m             conn,\n\u001b[1;32m    917\u001b[0m         )\n\u001b[1;32m    918\u001b[0m         \u001b[39mreturn\u001b[39;00m {}  \u001b[39m# required for tests\u001b[39;00m\n\u001b[1;32m    919\u001b[0m sleeping_time \u001b[39m=\u001b[39m retry_ctx\u001b[39m.\u001b[39mnext_sleep()\n",
      "File \u001b[0;32m~/.pyenv/versions/3.11.3/envs/3_11_3_jupyter/lib/python3.11/site-packages/snowflake/connector/network.py:965\u001b[0m, in \u001b[0;36mSnowflakeRestful.log_and_handle_http_error_with_cause\u001b[0;34m(self, e, full_url, method, retry_timeout, retry_count, conn, timed_out)\u001b[0m\n\u001b[1;32m    953\u001b[0m TelemetryService\u001b[39m.\u001b[39mget_instance()\u001b[39m.\u001b[39mlog_http_request_error(\n\u001b[1;32m    954\u001b[0m     \u001b[39m\"\u001b[39m\u001b[39mHttpRequestRetryTimeout\u001b[39m\u001b[39m\"\u001b[39m \u001b[39mif\u001b[39;00m timed_out \u001b[39melse\u001b[39;00m \u001b[39mf\u001b[39m\u001b[39m\"\u001b[39m\u001b[39mHttpRequestError: \u001b[39m\u001b[39m{\u001b[39;00mcause\u001b[39m}\u001b[39;00m\u001b[39m\"\u001b[39m,\n\u001b[1;32m    955\u001b[0m     full_url,\n\u001b[0;32m   (...)\u001b[0m\n\u001b[1;32m    962\u001b[0m     stack_trace\u001b[39m=\u001b[39mtraceback\u001b[39m.\u001b[39mformat_exc(),\n\u001b[1;32m    963\u001b[0m )\n\u001b[1;32m    964\u001b[0m \u001b[39mif\u001b[39;00m \u001b[39misinstance\u001b[39m(cause, Error):\n\u001b[0;32m--> 965\u001b[0m     Error\u001b[39m.\u001b[39;49merrorhandler_wrapper_from_cause(conn, cause)\n\u001b[1;32m    966\u001b[0m \u001b[39melse\u001b[39;00m:\n\u001b[1;32m    967\u001b[0m     \u001b[39mself\u001b[39m\u001b[39m.\u001b[39mhandle_invalid_certificate_error(conn, full_url, cause)\n",
      "File \u001b[0;32m~/.pyenv/versions/3.11.3/envs/3_11_3_jupyter/lib/python3.11/site-packages/snowflake/connector/errors.py:255\u001b[0m, in \u001b[0;36mError.errorhandler_wrapper_from_cause\u001b[0;34m(connection, cause, cursor)\u001b[0m\n\u001b[1;32m    234\u001b[0m \u001b[39m@staticmethod\u001b[39m\n\u001b[1;32m    235\u001b[0m \u001b[39mdef\u001b[39;00m \u001b[39merrorhandler_wrapper_from_cause\u001b[39m(\n\u001b[1;32m    236\u001b[0m     connection: SnowflakeConnection,\n\u001b[1;32m    237\u001b[0m     cause: Error \u001b[39m|\u001b[39m \u001b[39mException\u001b[39;00m,\n\u001b[1;32m    238\u001b[0m     cursor: SnowflakeCursor \u001b[39m|\u001b[39m \u001b[39mNone\u001b[39;00m \u001b[39m=\u001b[39m \u001b[39mNone\u001b[39;00m,\n\u001b[1;32m    239\u001b[0m ) \u001b[39m-\u001b[39m\u001b[39m>\u001b[39m \u001b[39mNone\u001b[39;00m:\n\u001b[1;32m    240\u001b[0m \u001b[39m    \u001b[39m\u001b[39m\"\"\"Wrapper for errorhandler_wrapper, it is called with a cause instead of a dictionary.\u001b[39;00m\n\u001b[1;32m    241\u001b[0m \n\u001b[1;32m    242\u001b[0m \u001b[39m    The dictionary is first extracted from the cause and then it's given to errorhandler_wrapper\u001b[39;00m\n\u001b[0;32m   (...)\u001b[0m\n\u001b[1;32m    253\u001b[0m \u001b[39m        A Snowflake error if connection and cursor are None.\u001b[39;00m\n\u001b[1;32m    254\u001b[0m \u001b[39m    \"\"\"\u001b[39;00m\n\u001b[0;32m--> 255\u001b[0m     \u001b[39mreturn\u001b[39;00m Error\u001b[39m.\u001b[39;49merrorhandler_wrapper(\n\u001b[1;32m    256\u001b[0m         connection,\n\u001b[1;32m    257\u001b[0m         cursor,\n\u001b[1;32m    258\u001b[0m         \u001b[39mtype\u001b[39;49m(cause),\n\u001b[1;32m    259\u001b[0m         {\n\u001b[1;32m    260\u001b[0m             \u001b[39m\"\u001b[39;49m\u001b[39mmsg\u001b[39;49m\u001b[39m\"\u001b[39;49m: cause\u001b[39m.\u001b[39;49mmsg,\n\u001b[1;32m    261\u001b[0m             \u001b[39m\"\u001b[39;49m\u001b[39merrno\u001b[39;49m\u001b[39m\"\u001b[39;49m: cause\u001b[39m.\u001b[39;49merrno,\n\u001b[1;32m    262\u001b[0m             \u001b[39m\"\u001b[39;49m\u001b[39msqlstate\u001b[39;49m\u001b[39m\"\u001b[39;49m: cause\u001b[39m.\u001b[39;49msqlstate,\n\u001b[1;32m    263\u001b[0m             \u001b[39m\"\u001b[39;49m\u001b[39mdone_format_msg\u001b[39;49m\u001b[39m\"\u001b[39;49m: \u001b[39mTrue\u001b[39;49;00m,\n\u001b[1;32m    264\u001b[0m         },\n\u001b[1;32m    265\u001b[0m     )\n",
      "File \u001b[0;32m~/.pyenv/versions/3.11.3/envs/3_11_3_jupyter/lib/python3.11/site-packages/snowflake/connector/errors.py:290\u001b[0m, in \u001b[0;36mError.errorhandler_wrapper\u001b[0;34m(connection, cursor, error_class, error_value)\u001b[0m\n\u001b[1;32m    267\u001b[0m \u001b[39m@staticmethod\u001b[39m\n\u001b[1;32m    268\u001b[0m \u001b[39mdef\u001b[39;00m \u001b[39merrorhandler_wrapper\u001b[39m(\n\u001b[1;32m    269\u001b[0m     connection: SnowflakeConnection \u001b[39m|\u001b[39m \u001b[39mNone\u001b[39;00m,\n\u001b[0;32m   (...)\u001b[0m\n\u001b[1;32m    272\u001b[0m     error_value: \u001b[39mdict\u001b[39m[\u001b[39mstr\u001b[39m, Any],\n\u001b[1;32m    273\u001b[0m ) \u001b[39m-\u001b[39m\u001b[39m>\u001b[39m \u001b[39mNone\u001b[39;00m:\n\u001b[1;32m    274\u001b[0m \u001b[39m    \u001b[39m\u001b[39m\"\"\"Error handler wrapper that calls the errorhandler method.\u001b[39;00m\n\u001b[1;32m    275\u001b[0m \n\u001b[1;32m    276\u001b[0m \u001b[39m    Args:\u001b[39;00m\n\u001b[0;32m   (...)\u001b[0m\n\u001b[1;32m    287\u001b[0m \u001b[39m        exception to the first handler in that order.\u001b[39;00m\n\u001b[1;32m    288\u001b[0m \u001b[39m    \"\"\"\u001b[39;00m\n\u001b[0;32m--> 290\u001b[0m     handed_over \u001b[39m=\u001b[39m Error\u001b[39m.\u001b[39;49mhand_to_other_handler(\n\u001b[1;32m    291\u001b[0m         connection,\n\u001b[1;32m    292\u001b[0m         cursor,\n\u001b[1;32m    293\u001b[0m         error_class,\n\u001b[1;32m    294\u001b[0m         error_value,\n\u001b[1;32m    295\u001b[0m     )\n\u001b[1;32m    296\u001b[0m     \u001b[39mif\u001b[39;00m \u001b[39mnot\u001b[39;00m handed_over:\n\u001b[1;32m    297\u001b[0m         \u001b[39mraise\u001b[39;00m Error\u001b[39m.\u001b[39merrorhandler_make_exception(\n\u001b[1;32m    298\u001b[0m             error_class,\n\u001b[1;32m    299\u001b[0m             error_value,\n\u001b[1;32m    300\u001b[0m         )\n",
      "File \u001b[0;32m~/.pyenv/versions/3.11.3/envs/3_11_3_jupyter/lib/python3.11/site-packages/snowflake/connector/errors.py:348\u001b[0m, in \u001b[0;36mError.hand_to_other_handler\u001b[0;34m(connection, cursor, error_class, error_value)\u001b[0m\n\u001b[1;32m    346\u001b[0m     \u001b[39mreturn\u001b[39;00m \u001b[39mTrue\u001b[39;00m\n\u001b[1;32m    347\u001b[0m \u001b[39melif\u001b[39;00m connection \u001b[39mis\u001b[39;00m \u001b[39mnot\u001b[39;00m \u001b[39mNone\u001b[39;00m:\n\u001b[0;32m--> 348\u001b[0m     connection\u001b[39m.\u001b[39;49merrorhandler(connection, cursor, error_class, error_value)\n\u001b[1;32m    349\u001b[0m     \u001b[39mreturn\u001b[39;00m \u001b[39mTrue\u001b[39;00m\n\u001b[1;32m    350\u001b[0m \u001b[39mreturn\u001b[39;00m \u001b[39mFalse\u001b[39;00m\n",
      "File \u001b[0;32m~/.pyenv/versions/3.11.3/envs/3_11_3_jupyter/lib/python3.11/site-packages/snowflake/connector/errors.py:221\u001b[0m, in \u001b[0;36mError.default_errorhandler\u001b[0;34m(connection, cursor, error_class, error_value)\u001b[0m\n\u001b[1;32m    219\u001b[0m errno \u001b[39m=\u001b[39m error_value\u001b[39m.\u001b[39mget(\u001b[39m\"\u001b[39m\u001b[39merrno\u001b[39m\u001b[39m\"\u001b[39m)\n\u001b[1;32m    220\u001b[0m done_format_msg \u001b[39m=\u001b[39m error_value\u001b[39m.\u001b[39mget(\u001b[39m\"\u001b[39m\u001b[39mdone_format_msg\u001b[39m\u001b[39m\"\u001b[39m)\n\u001b[0;32m--> 221\u001b[0m \u001b[39mraise\u001b[39;00m error_class(\n\u001b[1;32m    222\u001b[0m     msg\u001b[39m=\u001b[39merror_value\u001b[39m.\u001b[39mget(\u001b[39m\"\u001b[39m\u001b[39mmsg\u001b[39m\u001b[39m\"\u001b[39m),\n\u001b[1;32m    223\u001b[0m     errno\u001b[39m=\u001b[39m\u001b[39mNone\u001b[39;00m \u001b[39mif\u001b[39;00m errno \u001b[39mis\u001b[39;00m \u001b[39mNone\u001b[39;00m \u001b[39melse\u001b[39;00m \u001b[39mint\u001b[39m(errno),\n\u001b[1;32m    224\u001b[0m     sqlstate\u001b[39m=\u001b[39merror_value\u001b[39m.\u001b[39mget(\u001b[39m\"\u001b[39m\u001b[39msqlstate\u001b[39m\u001b[39m\"\u001b[39m),\n\u001b[1;32m    225\u001b[0m     sfqid\u001b[39m=\u001b[39merror_value\u001b[39m.\u001b[39mget(\u001b[39m\"\u001b[39m\u001b[39msfqid\u001b[39m\u001b[39m\"\u001b[39m),\n\u001b[1;32m    226\u001b[0m     query\u001b[39m=\u001b[39merror_value\u001b[39m.\u001b[39mget(\u001b[39m\"\u001b[39m\u001b[39mquery\u001b[39m\u001b[39m\"\u001b[39m),\n\u001b[1;32m    227\u001b[0m     done_format_msg\u001b[39m=\u001b[39m(\n\u001b[1;32m    228\u001b[0m         \u001b[39mNone\u001b[39;00m \u001b[39mif\u001b[39;00m done_format_msg \u001b[39mis\u001b[39;00m \u001b[39mNone\u001b[39;00m \u001b[39melse\u001b[39;00m \u001b[39mbool\u001b[39m(done_format_msg)\n\u001b[1;32m    229\u001b[0m     ),\n\u001b[1;32m    230\u001b[0m     connection\u001b[39m=\u001b[39mconnection,\n\u001b[1;32m    231\u001b[0m     cursor\u001b[39m=\u001b[39mcursor,\n\u001b[1;32m    232\u001b[0m )\n",
      "\u001b[0;31mForbiddenError\u001b[0m: 000403: HTTP 403: Forbidden"
     ]
    }
   ],
   "source": [
    "import os\n",
    "\n",
    "# Set the Snowflake connection parameters\n",
    "account_name = os.getenv(\"SF_ACCOUNT\")\n",
    "user = os.getenv(\"SF_USER\")\n",
    "password = os.getenv(\"SF_PASSWORD\")\n",
    "authenticator = 'externalbrowser'\n",
    "token = os.getenv(\"SF_TOKEN\")\n",
    "warehouse = os.getenv(\"SF_WAREHOUSE\")\n",
    "database = os.getenv(\"SF_DATABASE\")\n",
    "schema = os.getenv(\"SF_SCHEMA\")\n",
    "\n",
    "# Connect to Snowflake using buser/password\n",
    "conn = snowflake.connector.connect(\n",
    "    #account=f'{account_name}.ap-southeast-2',\n",
    "    account=account_name,\n",
    "    user=user,\n",
    "    authenticator=authenticator,    \n",
    "    warehouse=warehouse,\n",
    "    database=database,\n",
    "    schema=schema\n",
    ")\n",
    "\n",
    "cs = conn.cursor()\n",
    "try:\n",
    "    cs.execute(\"SELECT current_version()\")\n",
    "    one_row = cs.fetchone()\n",
    "    print(one_row[0])\n",
    "finally:\n",
    "    print(\"Done.\")"
   ]
  },
  {
   "attachments": {},
   "cell_type": "markdown",
   "metadata": {},
   "source": [
    "## Using Token\n",
    "\n",
    "1. Open a web browser and navigate to your Snowflake account URL.\n",
    "2. Log in to your Snowflake account using your credentials.\n",
    "3. In the Snowflake web interface, click on the \"User\" menu in the top right corner of the screen and select \"Generate Browser-Based SSO Token\" from the dropdown menu.\n",
    "4. In the \"Generate SSO Token\" dialog box, select the desired duration for the token and click \"Generate\".\n",
    "5. Copy the generated token to your clipboard."
   ]
  },
  {
   "attachments": {},
   "cell_type": "markdown",
   "metadata": {},
   "source": [
    "# Setup Pandas"
   ]
  },
  {
   "cell_type": "code",
   "execution_count": 17,
   "metadata": {},
   "outputs": [
    {
     "name": "stdout",
     "output_type": "stream",
     "text": [
      "2.0.0\n"
     ]
    }
   ],
   "source": [
    "\n",
    "try:\n",
    "    import pandas as pd\n",
    "except ImportError:\n",
    "    !pip install pandas\n",
    "    import pandas as pd\n",
    "\n",
    "print(pd.__version__) "
   ]
  },
  {
   "cell_type": "markdown",
   "metadata": {},
   "source": []
  }
 ],
 "metadata": {
  "kernelspec": {
   "display_name": "3_11_3_jupyter",
   "language": "python",
   "name": "python3"
  },
  "language_info": {
   "codemirror_mode": {
    "name": "ipython",
    "version": 3
   },
   "file_extension": ".py",
   "mimetype": "text/x-python",
   "name": "python",
   "nbconvert_exporter": "python",
   "pygments_lexer": "ipython3",
   "version": "3.11.3"
  },
  "orig_nbformat": 4
 },
 "nbformat": 4,
 "nbformat_minor": 2
}
